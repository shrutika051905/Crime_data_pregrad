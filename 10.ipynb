{
 "cells": [
  {
   "cell_type": "markdown",
   "metadata": {},
   "source": [
    "## To work on Q10. ##\n",
    "The file named _Offenders_known_to_the_victims.csv is used to find answers.\n",
    "No files are merged for this question."
   ]
  },
  {
   "cell_type": "markdown",
   "metadata": {},
   "source": [
    "Steps:\n",
    "1.Imorting pandas as pd\n",
    "2.Loading the csv file.\n",
    "3.Reading the csv file in pandas.\n",
    "4.Finding out all the heads (titles) in the dataset."
   ]
  },
  {
   "cell_type": "code",
   "execution_count": 1,
   "metadata": {},
   "outputs": [
    {
     "data": {
      "text/html": [
       "<div>\n",
       "<style scoped>\n",
       "    .dataframe tbody tr th:only-of-type {\n",
       "        vertical-align: middle;\n",
       "    }\n",
       "\n",
       "    .dataframe tbody tr th {\n",
       "        vertical-align: top;\n",
       "    }\n",
       "\n",
       "    .dataframe thead th {\n",
       "        text-align: right;\n",
       "    }\n",
       "</style>\n",
       "<table border=\"1\" class=\"dataframe\">\n",
       "  <thead>\n",
       "    <tr style=\"text-align: right;\">\n",
       "      <th></th>\n",
       "      <th>Area_Name</th>\n",
       "      <th>Year</th>\n",
       "      <th>No_of_Cases_in_which_offenders_were_known_to_the_Victims</th>\n",
       "      <th>No_of_Cases_in_which_offenders_were_Neighbours</th>\n",
       "      <th>No_of_Cases_in_which_offenders_were_Other_Known_persons</th>\n",
       "      <th>No_of_Cases_in_which_offenders_were_Parentsclose_family_members</th>\n",
       "      <th>No_of_Cases_in_which_offenders_were_Relatives</th>\n",
       "    </tr>\n",
       "  </thead>\n",
       "  <tbody>\n",
       "    <tr>\n",
       "      <th>0</th>\n",
       "      <td>Madhya Pradesh</td>\n",
       "      <td>2007</td>\n",
       "      <td>3010</td>\n",
       "      <td>1397</td>\n",
       "      <td>1384</td>\n",
       "      <td>49</td>\n",
       "      <td>180</td>\n",
       "    </tr>\n",
       "    <tr>\n",
       "      <th>1</th>\n",
       "      <td>Madhya Pradesh</td>\n",
       "      <td>2008</td>\n",
       "      <td>2937</td>\n",
       "      <td>1279</td>\n",
       "      <td>1433</td>\n",
       "      <td>52</td>\n",
       "      <td>173</td>\n",
       "    </tr>\n",
       "    <tr>\n",
       "      <th>2</th>\n",
       "      <td>Madhya Pradesh</td>\n",
       "      <td>2009</td>\n",
       "      <td>2998</td>\n",
       "      <td>1254</td>\n",
       "      <td>1528</td>\n",
       "      <td>14</td>\n",
       "      <td>202</td>\n",
       "    </tr>\n",
       "    <tr>\n",
       "      <th>3</th>\n",
       "      <td>Madhya Pradesh</td>\n",
       "      <td>2010</td>\n",
       "      <td>3135</td>\n",
       "      <td>1223</td>\n",
       "      <td>1659</td>\n",
       "      <td>21</td>\n",
       "      <td>232</td>\n",
       "    </tr>\n",
       "    <tr>\n",
       "      <th>4</th>\n",
       "      <td>West Bengal</td>\n",
       "      <td>2010</td>\n",
       "      <td>2134</td>\n",
       "      <td>1037</td>\n",
       "      <td>987</td>\n",
       "      <td>4</td>\n",
       "      <td>106</td>\n",
       "    </tr>\n",
       "  </tbody>\n",
       "</table>\n",
       "</div>"
      ],
      "text/plain": [
       "        Area_Name  Year  \\\n",
       "0  Madhya Pradesh  2007   \n",
       "1  Madhya Pradesh  2008   \n",
       "2  Madhya Pradesh  2009   \n",
       "3  Madhya Pradesh  2010   \n",
       "4     West Bengal  2010   \n",
       "\n",
       "   No_of_Cases_in_which_offenders_were_known_to_the_Victims  \\\n",
       "0                                               3010          \n",
       "1                                               2937          \n",
       "2                                               2998          \n",
       "3                                               3135          \n",
       "4                                               2134          \n",
       "\n",
       "   No_of_Cases_in_which_offenders_were_Neighbours  \\\n",
       "0                                            1397   \n",
       "1                                            1279   \n",
       "2                                            1254   \n",
       "3                                            1223   \n",
       "4                                            1037   \n",
       "\n",
       "   No_of_Cases_in_which_offenders_were_Other_Known_persons  \\\n",
       "0                                               1384         \n",
       "1                                               1433         \n",
       "2                                               1528         \n",
       "3                                               1659         \n",
       "4                                                987         \n",
       "\n",
       "   No_of_Cases_in_which_offenders_were_Parentsclose_family_members  \\\n",
       "0                                                 49                 \n",
       "1                                                 52                 \n",
       "2                                                 14                 \n",
       "3                                                 21                 \n",
       "4                                                  4                 \n",
       "\n",
       "   No_of_Cases_in_which_offenders_were_Relatives  \n",
       "0                                            180  \n",
       "1                                            173  \n",
       "2                                            202  \n",
       "3                                            232  \n",
       "4                                            106  "
      ]
     },
     "execution_count": 1,
     "metadata": {},
     "output_type": "execute_result"
    }
   ],
   "source": [
    "import pandas as pd\n",
    "file1=r\"C:\\Users\\Sai\\Desktop\\21_Offenders_known_to_the_victim.csv\"\n",
    "df1=pd.read_csv(file1)\n",
    "df1.head()"
   ]
  },
  {
   "cell_type": "markdown",
   "metadata": {},
   "source": [
    "Steps:\n",
    "5.Getting information about dataset to look for null values and data types."
   ]
  },
  {
   "cell_type": "code",
   "execution_count": 2,
   "metadata": {},
   "outputs": [
    {
     "name": "stdout",
     "output_type": "stream",
     "text": [
      "<class 'pandas.core.frame.DataFrame'>\n",
      "RangeIndex: 350 entries, 0 to 349\n",
      "Data columns (total 7 columns):\n",
      " #   Column                                                           Non-Null Count  Dtype \n",
      "---  ------                                                           --------------  ----- \n",
      " 0   Area_Name                                                        350 non-null    object\n",
      " 1   Year                                                             350 non-null    int64 \n",
      " 2   No_of_Cases_in_which_offenders_were_known_to_the_Victims         350 non-null    int64 \n",
      " 3   No_of_Cases_in_which_offenders_were_Neighbours                   350 non-null    int64 \n",
      " 4   No_of_Cases_in_which_offenders_were_Other_Known_persons          350 non-null    int64 \n",
      " 5   No_of_Cases_in_which_offenders_were_Parentsclose_family_members  350 non-null    int64 \n",
      " 6   No_of_Cases_in_which_offenders_were_Relatives                    350 non-null    int64 \n",
      "dtypes: int64(6), object(1)\n",
      "memory usage: 19.3+ KB\n"
     ]
    }
   ],
   "source": [
    "df1.info()"
   ]
  },
  {
   "cell_type": "markdown",
   "metadata": {},
   "source": [
    "Steps:\n",
    "6.To find if any duplicated records are present in dataset."
   ]
  },
  {
   "cell_type": "code",
   "execution_count": 5,
   "metadata": {},
   "outputs": [
    {
     "data": {
      "text/plain": [
       "np.int64(0)"
      ]
     },
     "execution_count": 5,
     "metadata": {},
     "output_type": "execute_result"
    }
   ],
   "source": [
    "dupli_values=df1.duplicated().sum()\n",
    "dupli_values"
   ]
  },
  {
   "cell_type": "markdown",
   "metadata": {},
   "source": [
    "Steps:\n",
    "7.Creating a dictionary to save the sum of all the realtions w.r.t to their heads.\n",
    "8.getting the sum as output."
   ]
  },
  {
   "cell_type": "code",
   "execution_count": 15,
   "metadata": {},
   "outputs": [
    {
     "data": {
      "text/plain": [
       "{'Known Persons': np.int64(168454),\n",
       " 'Neighbours': np.int64(58239),\n",
       " 'Other Known Persons': np.int64(94755),\n",
       " 'Parents/Close Family': np.int64(4216),\n",
       " 'Relatives': np.int64(11242)}"
      ]
     },
     "execution_count": 15,
     "metadata": {},
     "output_type": "execute_result"
    }
   ],
   "source": [
    "offender_categories = {\"Known Persons\":df1[\"No_of_Cases_in_which_offenders_were_known_to_the_Victims\"].sum(),\n",
    "    \"Neighbours\": df1[\"No_of_Cases_in_which_offenders_were_Neighbours\"].sum(),\n",
    "    \"Other Known Persons\": df1[\"No_of_Cases_in_which_offenders_were_Other_Known_persons\"].sum(),\n",
    "    \"Parents/Close Family\": df1[\"No_of_Cases_in_which_offenders_were_Parentsclose_family_members\"].sum(),\n",
    "    \"Relatives\": df1[\"No_of_Cases_in_which_offenders_were_Relatives\"].sum(),\n",
    "}\n",
    "offender_categories\n"
   ]
  },
  {
   "cell_type": "markdown",
   "metadata": {},
   "source": [
    "Steps:\n",
    "9.Importing Matplotlib.pyplot for visualizaton.\n"
   ]
  },
  {
   "cell_type": "code",
   "execution_count": 16,
   "metadata": {},
   "outputs": [],
   "source": [
    "import matplotlib.pyplot as plt\n"
   ]
  },
  {
   "cell_type": "markdown",
   "metadata": {},
   "source": [
    "Steps:\n",
    "10.Creating a figure for plotting and setting its size as 10*6.\n",
    "11.Creating  a bar chart, usins keys from above dictionary as x-axis labels and values from dictionary as y-axis labels.  Using different colours for different bars.\n",
    "12.Setting labels for x-axis.\n",
    "13.Setting labels for y-axis.\n",
    "14.Giving the plot a suitable title.\n",
    "15.To avoid overlapping in graphs .xticks is used. Rotation of 30degrees is done.\n",
    "16.Plot is showed."
   ]
  },
  {
   "cell_type": "code",
   "execution_count": 12,
   "metadata": {},
   "outputs": [
    {
     "data": {
      "image/png": "[encoded data removed]",
      "text/plain": [
       "<Figure size 1000x600 with 1 Axes>"
      ]
     },
     "metadata": {},
     "output_type": "display_data"
    }
   ],
   "source": [
    "plt.figure(figsize=(10, 6))\n",
    "plt.bar(offender_categories.keys(), offender_categories.values(), color=['blue', 'orange', 'green', 'red', 'purple'])\n",
    "plt.xlabel(\"Offender Relationship to Victim\")\n",
    "plt.ylabel(\"Total Cases\")\n",
    "plt.title(\"Distribution of Rape Offenders Based on Relationship with Victim\")\n",
    "plt.xticks(rotation=30)\n",
    "plt.show()"
   ]
  },
  {
   "cell_type": "markdown",
   "metadata": {},
   "source": [
    "Question:\n",
    "Profile of Rape Offenders: Categorize and rank the top three relationships between rape offenders and their victims based on recorded data.\n",
    "Answer:\n",
    "The top three relationships between the victims and their offenders are :\n",
    "1: They we known persons for the victim.\n",
    "2: They we neighbours of the victims.\n",
    "3: They were other known persons.\n"
   ]
  }
 ],
 "metadata": {
  "kernelspec": {
   "display_name": "Python 3",
   "language": "python",
   "name": "python3"
  },
  "language_info": {
   "codemirror_mode": {
    "name": "ipython",
    "version": 3
   },
   "file_extension": ".py",
   "mimetype": "text/x-python",
   "name": "python",
   "nbconvert_exporter": "python",
   "pygments_lexer": "ipython3",
   "version": "3.12.6"
  }
 },
 "nbformat": 4,
 "nbformat_minor": 2
}
