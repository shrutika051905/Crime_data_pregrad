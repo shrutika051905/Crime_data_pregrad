{
 "cells": [
  {
   "cell_type": "markdown",
   "metadata": {},
   "source": [
    "##To work on Question no 9 ##\n",
    "The files named 42_District_wise_crimes_committed_against_women_2001_2012.csv and 42_District_wise_crimes_committed_against_women_2013.csv are merged using Power Query in Excel.\n"
   ]
  },
  {
   "cell_type": "markdown",
   "metadata": {},
   "source": [
    "Importing libraries.\n",
    "Loading the required dataset.\n",
    "Reading dataset.\n",
    "Removing unnecessary rows from dataset.\n",
    "The dataset contains multiple columns representing different types of crimes.\n",
    "We define a list (crime_columns) containing these relevant columns.\n",
    "The .sum(axis=1) function is used to compute the total number of crimes for each district across all categories.\n",
    "Grouping data by year,state and district.\n",
    "Summing the grouped data.\n",
    "Identifying zero crimes districts.\n",
    "Zero-crime districts are excluded from further analysis.\n",
    ".nsmallest(5, \"Total Crimes Against Women\") selects the top 5 districts with the lowest reported crimes.\n",
    "Printing the results."
   ]
  },
  {
   "cell_type": "code",
   "execution_count": 1,
   "metadata": {},
   "outputs": [
    {
     "name": "stderr",
     "output_type": "stream",
     "text": [
      "C:\\Users\\Sai\\AppData\\Local\\Temp\\ipykernel_6068\\95393271.py:18: SettingWithCopyWarning: \n",
      "A value is trying to be set on a copy of a slice from a DataFrame.\n",
      "Try using .loc[row_indexer,col_indexer] = value instead\n",
      "\n",
      "See the caveats in the documentation: https://pandas.pydata.org/pandas-docs/stable/user_guide/indexing.html#returning-a-view-versus-a-copy\n",
      "  df_cleaned['Total Crimes Against Women'] = df_cleaned[crime_columns].sum(axis=1)\n"
     ]
    },
    {
     "data": {
      "text/plain": [
       "(               STATE/UT        DISTRICT  Total Crimes Against Women\n",
       " 63                ASSAM            BIEO                         0.0\n",
       " 126   Arunachal Pradesh           ANJAW                         0.0\n",
       " 146               Assam            BIEO                         0.0\n",
       " 148               Assam          C.I.D.                         0.0\n",
       " 174               Assam             STF                         0.0\n",
       " 350               DELHI        SPL CELL                         0.0\n",
       " 351               DELHI             STF                         0.0\n",
       " 359            Delhi UT             EOW                         0.0\n",
       " 371            Delhi UT             STF                         0.0\n",
       " 474    HIMACHAL PRADESH             CID                         0.0\n",
       " 475    HIMACHAL PRADESH          G.R.P.                         0.0\n",
       " 494             Haryana     I&P HARYANA                         0.0\n",
       " 532     JAMMU & KASHMIR     CRIME JAMMU                         0.0\n",
       " 533     JAMMU & KASHMIR   CRIME KASHMIR                         0.0\n",
       " 534     JAMMU & KASHMIR  CRIME SRINAGAR                         0.0\n",
       " 550     JAMMU & KASHMIR  RAILWAYS KATRA                         0.0\n",
       " 591     Jammu & Kashmir     CRIME JAMMU                         0.0\n",
       " 592     Jammu & Kashmir  CRIME SRINAGAR                         0.0\n",
       " 607     Jammu & Kashmir  RAILWAYS KATRA                         0.0\n",
       " 862             MANIPUR             CID                         0.0\n",
       " 988             Manipur             CID                         0.0\n",
       " 1014            Mizoram    SPL NARCOTIC                         0.0\n",
       " 1015            Mizoram      TRAFFIC PS                         0.0\n",
       " 1030           Nagaland        LONGLENG                         0.0\n",
       " 1036           Nagaland           WOKHA                         0.0\n",
       " 1037           Nagaland       ZUNHEBOTO                         0.0\n",
       " 1240          Rajasthan          DISCOM                         0.0\n",
       " 1323            TRIPURA             GRP                         0.0\n",
       " 1371            Tripura             GRP                         0.0,\n",
       "               STATE/UT             DISTRICT  Total Crimes Against Women\n",
       " 143  Arunachal Pradesh  UPPER DIBANG VALLEY                         1.0\n",
       " 420            Gujarat            CID CRIME                         1.0\n",
       " 513   Himachal Pradesh                  CID                         1.0\n",
       " 514   Himachal Pradesh               G.R.P.                         1.0\n",
       " 548    JAMMU & KASHMIR       RAILWAYS JAMMU                         1.0)"
      ]
     },
     "execution_count": 1,
     "metadata": {},
     "output_type": "execute_result"
    }
   ],
   "source": [
    "import pandas as pd\n",
    "\n",
    "\n",
    "file_path = r\"C:\\Users\\Sai\\OneDrive\\Desktop\\Q9\\CAW merged data.xlsx\"\n",
    "xls = pd.ExcelFile(file_path)\n",
    "\n",
    "\n",
    "df = pd.read_excel(xls, sheet_name='CAW merged data')\n",
    "\n",
    "\n",
    "df_cleaned = df[~df['DISTRICT'].isin(['ZZ TOTAL', 'TOTAL'])]\n",
    "\n",
    "\n",
    "crime_columns = ['Rape', 'Kidnapping and Abduction', 'Dowry Deaths', \n",
    "                 'Assault on women with intent to outrage her modesty', \n",
    "                 'Insult to modesty of Women', 'Cruelty by Husband or his Relatives', \n",
    "                 'Importation of Girls']\n",
    "df_cleaned['Total Crimes Against Women'] = df_cleaned[crime_columns].sum(axis=1)\n",
    "\n",
    "\n",
    "df_safest = df_cleaned.groupby(['STATE/UT', 'DISTRICT'])['Total Crimes Against Women'].sum().reset_index()\n",
    "\n",
    "\n",
    "zero_crime_districts = df_safest[df_safest[\"Total Crimes Against Women\"] == 0]\n",
    "\n",
    "\n",
    "df_top5_safest = df_safest[df_safest[\"Total Crimes Against Women\"] > 0].nsmallest(5, \"Total Crimes Against Women\")\n",
    "\n",
    "\n",
    "zero_crime_districts, df_top5_safest\n"
   ]
  }
 ],
 "metadata": {
  "kernelspec": {
   "display_name": "Python 3",
   "language": "python",
   "name": "python3"
  },
  "language_info": {
   "codemirror_mode": {
    "name": "ipython",
    "version": 3
   },
   "file_extension": ".py",
   "mimetype": "text/x-python",
   "name": "python",
   "nbconvert_exporter": "python",
   "pygments_lexer": "ipython3",
   "version": "3.12.6"
  }
 },
 "nbformat": 4,
 "nbformat_minor": 2
}
